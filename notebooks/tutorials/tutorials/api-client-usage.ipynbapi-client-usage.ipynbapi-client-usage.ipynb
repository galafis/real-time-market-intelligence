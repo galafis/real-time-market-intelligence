{
 "cells": [
  {
   "cell_type": "markdown",
   "metadata": {},
   "source": [
    "# API Client Usage Tutorial\n",
    "\n",
    "**Author:** galafis  \n",
    "**Date:** 2025-09-30  \n",
    "**Objective:** Demonstrate how to authenticate, query, and handle responses using the Real-Time Market Intelligence API client with safe credential management."
   ]
  },
  {
   "cell_type": "markdown",
   "metadata": {},
   "source": [
    "## Overview and Prerequisites\n",
    "\n",
    "This tutorial walks through a typical workflow using the API client.\n",
    "\n",
    "Prerequisites:\n",
    "- Python 3.9+\n",
    "- `requests`, `pydantic` (or the project's client library)\n",
    "- Environment variables configured in a local `.env` file (never commit secrets)"
   ]
  },
  {
   "cell_type": "markdown",
   "metadata": {},
   "source": [
    "## Setup (env vars, API keys)\n",
    "\n",
    "Load configuration from environment variables. Create a `.env` file locally with sanitized placeholders like:\n",
    "\n",
    "```
",
    "API_BASE_URL=https://api.example.com
",
    "API_KEY=replace-with-local-key
",
    "```
",
    "\n",
    "This notebook will not print secrets."
   ]
  },
  {
   "cell_type": "code",
   "execution_count": null,
   "metadata": {},
   "outputs": [],
   "source": [
    "# Environment loading\n",
    "import os\n",
    "from dataclasses import dataclass\n",
    "try:\n",
    "    from dotenv import load_dotenv\n",
    "    load_dotenv()\n",
    "except Exception:\n",
    "    pass\n",
    "\n",
    "API_BASE_URL = os.getenv('API_BASE_URL', 'https://api.example.com')\n",
    "API_KEY = os.getenv('API_KEY', 'demo-key')  # Use a non-sensitive placeholder by default\n",
    "\n",
    "assert API_BASE_URL, 'API_BASE_URL is required'\n",
    "assert API_KEY, 'API_KEY is required'\n",
    "\n",
    "print('Configuration loaded. Base URL OK; API key present (hidden).')"
   ]
  },
  {
   "cell_type": "markdown",
   "metadata": {},
   "source": [
    "## Client Skeleton\n",
    "\n",
    "This minimal client encapsulates auth headers, error handling, and basic GET/POST methods."
   ]
  },
  {
   "cell_type": "code",
   "execution_count": null,
   "metadata": {},
   "outputs": [],
   "source": [
    "import requests\n",
    "from typing import Any, Dict, Optional\n",
    "\n",
    "class RTMClient:\n",
    "    def __init__(self, base_url: str, api_key: str):\n",
    "        self.base_url = base_url.rstrip('/')\n",
    "        self.session = requests.Session()\n",
    "        self.session.headers.update({\n",
    "            'Authorization': f'Bearer {api_key}',\n",
    "            'Content-Type': 'application/json',\n",
    "            'Accept': 'application/json'\n",
    "        })\n",
    "\n",
    "    def _url(self, path: str) -> str:\n",
    "        return f\"{self.base_url}/{path.lstrip('/')}\"\n",
    "\n",
    "    def get(self, path: str, params: Optional[Dict[str, Any]] = None) -> Dict[str, Any]:\n",
    "        r = self.session.get(self._url(path), params=params, timeout=30)\n",
    "        r.raise_for_status()\n",
    "        return r.json()\n",
    "\n",
    "    def post(self, path: str, json: Optional[Dict[str, Any]] = None) -> Dict[str, Any]:\n",
    "        r = self.session.post(self._url(path), json=json, timeout=30)\n",
    "        r.raise_for_status()\n",
    "        return r.json()\n",
    "\n",
    "client = RTMClient(API_BASE_URL, API_KEY)\n",
    "print('Client initialized.')"
   ]
  },
  {
   "cell_type": "markdown",
   "metadata": {},
   "source": [
    "## Step-by-step: Example Queries\n",
    "\n",
    "We will use a synthetic/demo endpoint structure for illustration:\n",
    "- `/v1/health` — service health\n",
    "- `/v1/quotes` — latest quotes\n",
    "- `/v1/search` — search entities (tickers, news)\n",
    "\n",
    "Replace paths with the project's actual API routes."
   ]
  },
  {
   "cell_type": "code",
   "execution_count": null,
   "metadata": {},
   "outputs": [],
   "source": [
    "# 1) Health check\n",
    "try:\n",
    "    health = client.get('/v1/health')\n",
    "    print('Health:', health)\n",
    "except Exception as e:\n",
    "    print('Health check failed (expected with demo URL):', e)"
   ]
  },
  {
   "cell_type": "code",
   "execution_count": null,
   "metadata": {},
   "outputs": [],
   "source": [
    "# 2) Latest quotes (synthetic example)\n",
    "symbols = ['AAPL', 'MSFT', 'GOOG']\n",
    "payload = {'symbols': symbols}\n",
    "\n",
    "try:\n",
    "    quotes = client.post('/v1/quotes', json=payload)\n",
    "    # Normalize to DataFrame for analysis\n",
    "    import pandas as pd\n",
    "    df_quotes = pd.DataFrame(quotes.get('data', []))\n",
    "    display(df_quotes.head())\n",
    "except Exception as e:\n",
    "    print('Quotes request failed (expected with demo URL):', e)\n",
    "    # Fallback: use synthetic response for demonstration\n",
    "    df_quotes = pd.DataFrame([\n",
    "        {'symbol': 'AAPL', 'price': 175.23, 'ts': '2025-09-30T00:00:00Z'},\n",
    "        {'symbol': 'MSFT', 'price': 402.10, 'ts': '2025-09-30T00:00:00Z'},\n",
    "        {'symbol': 'GOOG', 'price': 142.55, 'ts': '2025-09-30T00:00:00Z'},\n",
    "    ])\n",
    "    display(df_quotes)"
   ]
  },
  {
   "cell_type": "code",
   "execution_count": null,
   "metadata": {},
   "outputs": [],
   "source": [
    "# 3) Search entities (synthetic example)\n",
    "query = 'Apple earnings'\n",
    "params = {'q': query, 'limit': 5}\n",
    "\n",
    "try:\n",
    "    results = client.get('/v1/search', params=params)\n",
    "    for i, item in enumerate(results.get('items', []), 1):\n",
    "        print(f"{i}. {item.get('title', 'N/A')} -> {item.get('url', '')}")\n",
    "except Exception as e:\n",
    "    print('Search request failed (expected with demo URL):', e)\n",
    "    # Fallback synthetic items\n",
    "    items = [\n",
    "        {'title': 'Apple posts quarterly earnings', 'url': 'https://example.com/aapl-earnings'},\n",
    "        {'title': 'Analyst review on AAPL', 'url': 'https://example.com/aapl-analyst'}\n",
    "    ]\n",
    "    for i, item in enumerate(items, 1):\n",
    "        print(f"{i}. {item['title']} -> {item['url']}")"
   ]
  },
  {
   "cell_type": "markdown",
   "metadata": {},
   "source": [
    "## Validation / Expected Outputs\n",
    "\n",
    "- Health check should return status ok in real environments.\n",
    "- Quotes should return a JSON list per symbol; we normalize into a DataFrame.\n",
    "- Search should return items with titles/URLs.\n",
    "\n",
    "In demo mode (no real API), fallback synthetic data ensures the tutorial runs end-to-end."
   ]
  },
  {
   "cell_type": "markdown",
   "metadata": {},
   "source": [
    "## Troubleshooting and Tips\n",
    "\n",
    "- Verify `API_BASE_URL` and `API_KEY` are set in your environment.\n",
    "- Inspect HTTP status codes and response bodies on failures.\n",
    "- Never print secrets; mask tokens in logs.\n",
    "- For batch workflows, parameterize symbols via environment or papermill.\n",
    "- Extract reusable request/validation helpers to `notebooks/utils/`."
   ]
  }
 ],
 "metadata": {
  "kernelspec": {
   "display_name": "RTM Notebook",
   "language": "python",
   "name": "rtm"
  },
  "language_info": {
   "codemirror_mode": {
    "name": "ipython",
    "version": 3
   },
  "file_extension": ".py",
  "mimetype": "text/x-python",
  "name": "python",
  "nbconvert_exporter": "python",
  "pygments_lexer": "ipython3",
  "version": "3.9.0"
  }
 },
 "nbformat": 4,
 "nbformat_minor": 4
}
