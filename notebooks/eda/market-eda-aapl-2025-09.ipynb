{
 "cells": [
  {
   "cell_type": "markdown",
   "metadata": {},
   "source": [
    "# Market EDA for AAPL\n",
    "\n",
    "**Author:** galafis  \n",
    "**Date:** 2025-09-29  \n",
    "**Objective:** Explore intraday price behavior, volume patterns, and potential anomalies in Apple Inc. (AAPL) trading data\n"
   ]
  },
  {
   "cell_type": "markdown",
   "metadata": {},
   "source": [
    "## 1. Context & Questions\n",
    "\n",
    "This notebook explores synthetic AAPL market data to understand:\n",
    "\n",
    "- Intraday price volatility and trends\n",
    "- Volume distribution and outliers\n",
    "- Price-volume correlation\n",
    "- Potential data quality issues\n",
    "\n",
    "**Data Source:** Synthetic sample generated for demonstration purposes."
   ]
  },
  {
   "cell_type": "code",
   "execution_count": null,
   "metadata": {},
   "outputs": [],
   "source": [
    "# Import dependencies\n",
    "import pandas as pd\n",
    "import numpy as np\n",
    "import matplotlib.pyplot as plt\n",
    "import seaborn as sns\n",
    "from datetime import datetime, timedelta\n",
    "\n",
    "# Configure plotting\n",
    "sns.set_style('whitegrid')\n",
    "plt.rcParams['figure.figsize'] = (12, 6)\n",
    "%matplotlib inline"
   ]
  },
  {
   "cell_type": "markdown",
   "metadata": {},
   "source": [
    "## 2. Data Loading and Sampling\n",
    "\n",
    "For this EDA, we generate synthetic intraday data to demonstrate analytical workflows without exposing production data."
   ]
  },
  {
   "cell_type": "code",
   "execution_count": null,
   "metadata": {},
   "outputs": [],
   "source": [
    "# Generate synthetic AAPL intraday data\n",
    "np.random.seed(42)\n",
    "\n",
    "# Create datetime index for September 2025 trading days\n",
    "start_date = datetime(2025, 9, 1, 9, 30)\n",
    "periods = 20 * 390  # 20 trading days, 390 minutes each\n",
    "date_range = pd.date_range(start=start_date, periods=periods, freq='1min')\n",
    "\n",
    "# Simulate price movement with random walk\n",
    "base_price = 175.0\n",
    "price_changes = np.random.randn(periods) * 0.5\n",
    "prices = base_price + np.cumsum(price_changes)\n",
    "\n",
    "# Simulate volume with lognormal distribution\n",
    "volumes = np.random.lognormal(mean=11, sigma=0.8, size=periods).astype(int)\n",
    "\n",
    "# Create DataFrame\n",
    "df = pd.DataFrame({\n",
    "    'timestamp': date_range,\n",
    "    'symbol': 'AAPL',\n",
    "    'price': prices,\n",
    "    'volume': volumes\n",
    "})\n",
    "\n",
    "# Add derived fields\n",
    "df['hour'] = df['timestamp'].dt.hour\n",
    "df['date'] = df['timestamp'].dt.date\n",
    "\n",
    "print(f\"Dataset shape: {df.shape}\")\n",
    "df.head()"
   ]
  },
  {
   "cell_type": "markdown",
   "metadata": {},
   "source": [
    "## 3. Quality Checks"
   ]
  },
  {
   "cell_type": "code",
   "execution_count": null,
   "metadata": {},
   "outputs": [],
   "source": [
    "# Check for missing values\n",
    "print(\"Missing values per column:\")\n",
    "print(df.isnull().sum())\n",
    "print(\"\\n\")\n",
    "\n",
    "# Check data types\n",
    "print(\"Data types:\")\n",
    "print(df.dtypes)\n",
    "print(\"\\n\")\n",
    "\n",
    "# Check for duplicates\n",
    "duplicates = df.duplicated(subset=['timestamp', 'symbol']).sum()\n",
    "print(f\"Duplicate records: {duplicates}\")"
   ]
  },
  {
   "cell_type": "code",
   "execution_count": null,
   "metadata": {},
   "outputs": [],
   "source": [
    "# Value ranges\n",
    "print(\"Price statistics:\")\n",
    "print(df['price'].describe())\n",
    "print(\"\\n\")\n",
    "\n",
    "print(\"Volume statistics:\")\n",
    "print(df['volume'].describe())"
   ]
  },
  {
   "cell_type": "markdown",
   "metadata": {},
   "source": [
    "## 4. Exploratory Plots and Summary Stats"
   ]
  },
  {
   "cell_type": "code",
   "execution_count": null,
   "metadata": {},
   "outputs": [],
   "source": [
    "# Price time series\n",
    "fig, ax = plt.subplots(figsize=(14, 6))\n",
    "ax.plot(df['timestamp'], df['price'], linewidth=0.8, alpha=0.8)\n",
    "ax.set_title('AAPL Intraday Price Movement - September 2025', fontsize=14)\n",
    "ax.set_xlabel('Timestamp')\n",
    "ax.set_ylabel('Price ($)')\n",
    "ax.grid(alpha=0.3)\n",
    "plt.tight_layout()\n",
    "plt.show()"
   ]
  },
  {
   "cell_type": "code",
   "execution_count": null,
   "metadata": {},
   "outputs": [],
   "source": [
    "# Volume distribution\n",
    "fig, axes = plt.subplots(1, 2, figsize=(14, 5))\n",
    "\n",
    "axes[0].hist(df['volume'], bins=50, edgecolor='black', alpha=0.7)\n",
    "axes[0].set_title('Volume Distribution')\n",
    "axes[0].set_xlabel('Volume')\n",
    "axes[0].set_ylabel('Frequency')\n",
    "\n",
    "axes[1].boxplot(df['volume'])\n",
    "axes[1].set_title('Volume Boxplot')\n",
    "axes[1].set_ylabel('Volume')\n",
    "\n",
    "plt.tight_layout()\n",
    "plt.show()"
   ]
  },
  {
   "cell_type": "code",
   "execution_count": null,
   "metadata": {},
   "outputs": [],
   "source": [
    "# Intraday patterns by hour\n",
    "hourly_stats = df.groupby('hour').agg({\n",
    "    'price': ['mean', 'std'],\n",
    "    'volume': ['mean', 'sum']\n",
    "})\n",
    "\n",
    "fig, axes = plt.subplots(2, 1, figsize=(12, 8))\n",
    "\n",
    "axes[0].plot(hourly_stats.index, hourly_stats[('price', 'mean')], marker='o', linewidth=2)\n",
    "axes[0].fill_between(\n",
    "    hourly_stats.index,\n",
    "    hourly_stats[('price', 'mean')] - hourly_stats[('price', 'std')],\n",
    "    hourly_stats[('price', 'mean')] + hourly_stats[('price', 'std')],\n",
    "    alpha=0.3\n",
    ")\n",
    "axes[0].set_title('Average Price by Hour (with std dev)')\n",
    "axes[0].set_ylabel('Price ($)')\n",
    "axes[0].grid(alpha=0.3)\n",
    "\n",
    "axes[1].bar(hourly_stats.index, hourly_stats[('volume', 'mean')], alpha=0.7)\n",
    "axes[1].set_title('Average Volume by Hour')\n",
    "axes[1].set_xlabel('Hour of Day')\n",
    "axes[1].set_ylabel('Volume')\n",
    "axes[1].grid(alpha=0.3)\n",
    "\n",
    "plt.tight_layout()\n",
    "plt.show()"
   ]
  },
  {
   "cell_type": "code",
   "execution_count": null,
   "metadata": {},
   "outputs": [],
   "source": [
    "# Price-volume correlation\n",
    "correlation = df[['price', 'volume']].corr()\n",
    "print(\"Price-Volume Correlation Matrix:\")\n",
    "print(correlation)\n",
    "print(\"\\n\")\n",
    "\n",
    "# Scatter plot\n",
    "plt.figure(figsize=(10, 6))\n",
    "plt.scatter(df['price'], df['volume'], alpha=0.3, s=10)\n",
    "plt.title('Price vs Volume Scatter')\n",
    "plt.xlabel('Price ($)')\n",
    "plt.ylabel('Volume')\n",
    "plt.grid(alpha=0.3)\n",
    "plt.tight_layout()\n",
    "plt.show()"
   ]
  },
  {
   "cell_type": "markdown",
   "metadata": {},
   "source": [
    "## 5. Findings and Next Steps\n",
    "\n",
    "### Key Observations\n",
    "\n",
    "- **Price Movement:** Synthetic data shows random walk behavior with moderate volatility\n",
    "- **Volume Patterns:** Lognormal distribution is typical for market volume data\n",
    "- **Intraday Dynamics:** Hour-based aggregations reveal patterns that would be more pronounced in real data\n",
    "- **Data Quality:** No missing values or duplicates detected\n",
    "\n",
    "### Next Steps\n",
    "\n",
    "1. Replace synthetic data with sanitized production samples\n",
    "2. Analyze multi-day trends and seasonality\n",
    "3. Investigate volume spikes and their correlation with price movements\n",
    "4. Develop anomaly detection logic for unusual trading patterns\n",
    "5. Extract reusable plotting functions to `notebooks/utils/plotting.py`"
   ]
  }
 ],
 "metadata": {
  "kernelspec": {
   "display_name": "RTM Notebook",
   "language": "python",
   "name": "rtm"
  },
  "language_info": {
   "codemirror_mode": {
    "name": "ipython",
    "version": 3
   },
   "file_extension": ".py",
   "mimetype": "text/x-python",
   "name": "python",
   "nbconvert_exporter": "python",
   "pygments_lexer": "ipython3",
   "version": "3.9.0"
  }
 },
 "nbformat": 4,
 "nbformat_minor": 4
}
